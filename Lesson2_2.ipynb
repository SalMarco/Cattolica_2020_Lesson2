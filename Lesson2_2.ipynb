{
 "cells": [
  {
   "cell_type": "markdown",
   "metadata": {},
   "source": [
    "Introduction to Python\n",
    "================================\n",
    "\n",
    "Lesson 1 Part 2\n",
    "--------"
   ]
  },
  {
   "cell_type": "markdown",
   "metadata": {
    "slideshow": {
     "slide_type": "slide"
    }
   },
   "source": [
    "# First Lesson: loops and conditions\n",
    "\n",
    "In this part of the lesson we will focus on \n",
    "\n",
    "  - Loops: for and while\n",
    "  - Conditions\n",
    "  \n",
    "We have already used some of this in the previous lesson."
   ]
  },
  {
   "cell_type": "markdown",
   "metadata": {
    "slideshow": {
     "slide_type": "slide"
    }
   },
   "source": [
    "## For Loop\n",
    "\n",
    "In Pyhon for loop are widely used. We will focus on:\n",
    "\n",
    "  - Normal syntax\n",
    "  - Oneliner syntax\n",
    "  - Alternatives\n",
    "  - Comparison with R"
   ]
  },
  {
   "cell_type": "code",
   "execution_count": null,
   "metadata": {},
   "outputs": [],
   "source": [
    "dictEx = {'a':[1,2,3],'b':{'pippo':2,'pluto':3},'c':3}\n",
    "len(dictEx.keys())"
   ]
  },
  {
   "cell_type": "code",
   "execution_count": null,
   "metadata": {
    "slideshow": {
     "slide_type": "subslide"
    }
   },
   "outputs": [],
   "source": [
    "from pprint import pprint as pp"
   ]
  },
  {
   "cell_type": "code",
   "execution_count": null,
   "metadata": {
    "slideshow": {
     "slide_type": "fragment"
    }
   },
   "outputs": [],
   "source": [
    "%load_ext rpy2.ipython"
   ]
  },
  {
   "cell_type": "code",
   "execution_count": null,
   "metadata": {
    "slideshow": {
     "slide_type": "fragment"
    }
   },
   "outputs": [],
   "source": [
    "#Basic format\n",
    "r=range(0,5)\n",
    "print('Type di range: %s'%type(r))"
   ]
  },
  {
   "cell_type": "code",
   "execution_count": null,
   "metadata": {
    "slideshow": {
     "slide_type": "fragment"
    }
   },
   "outputs": [],
   "source": [
    "for i in r:\n",
    "    print(i)\n",
    "    "
   ]
  },
  {
   "cell_type": "code",
   "execution_count": null,
   "metadata": {
    "slideshow": {
     "slide_type": "fragment"
    }
   },
   "outputs": [],
   "source": [
    "s=\"Hello\"\n",
    "print('Loop over letters in words')\n",
    "for letter in s:\n",
    "    print(letter)\n",
    "print('One liner')\n",
    "sL=[letter for letter in s]\n",
    "sL2 = []\n",
    "for let in s:\n",
    "    sL2.append(let)\n",
    "sL2"
   ]
  },
  {
   "cell_type": "markdown",
   "metadata": {},
   "source": [
    "What is `sL`?"
   ]
  },
  {
   "cell_type": "code",
   "execution_count": null,
   "metadata": {
    "slideshow": {
     "slide_type": "fragment"
    }
   },
   "outputs": [],
   "source": [
    "print(sL)"
   ]
  },
  {
   "cell_type": "code",
   "execution_count": null,
   "metadata": {
    "slideshow": {
     "slide_type": "fragment"
    }
   },
   "outputs": [],
   "source": [
    "print('Enumerate items in something')\n",
    "for i,letter in enumerate(s):\n",
    "    print('The letter in position %i is %s'%(i,letter))"
   ]
  },
  {
   "cell_type": "code",
   "execution_count": null,
   "metadata": {
    "slideshow": {
     "slide_type": "fragment"
    }
   },
   "outputs": [],
   "source": [
    "count = 0\n",
    "for let in s:\n",
    "    print(count,let)\n",
    "    count = count +1\n",
    "    "
   ]
  },
  {
   "cell_type": "markdown",
   "metadata": {
    "slideshow": {
     "slide_type": "fragment"
    }
   },
   "source": [
    "**NOTE:** Again please take note that in python we always start from **0**"
   ]
  },
  {
   "cell_type": "markdown",
   "metadata": {},
   "source": [
    "**Interlude**: Since the first part of this lesson, we are using %s to format string.\n",
    "Let's see other methods to do the same thing."
   ]
  },
  {
   "cell_type": "code",
   "execution_count": null,
   "metadata": {
    "slideshow": {
     "slide_type": "fragment"
    }
   },
   "outputs": [],
   "source": [
    "a=1\n",
    "b='2'\n",
    "s_test = f'a is equal to__ {a} and b is equal to {b}'\n",
    "print(s_test)\n",
    "s_test2 ='a is equal to__ {pippo} and b is equal to {pluto}'.format(pippo=a,pluto=b)\n",
    "print(s_test2)"
   ]
  },
  {
   "cell_type": "code",
   "execution_count": null,
   "metadata": {
    "slideshow": {
     "slide_type": "subslide"
    }
   },
   "outputs": [],
   "source": [
    "#Another one liner\n",
    "d={k:v for v,k in enumerate(s)}"
   ]
  },
  {
   "cell_type": "markdown",
   "metadata": {},
   "source": [
    "What is the type of `d`? \n",
    "\n",
    "What is the content of `d`"
   ]
  },
  {
   "cell_type": "code",
   "execution_count": null,
   "metadata": {
    "slideshow": {
     "slide_type": "subslide"
    }
   },
   "outputs": [],
   "source": [
    "pp(d)"
   ]
  },
  {
   "cell_type": "code",
   "execution_count": null,
   "metadata": {
    "slideshow": {
     "slide_type": "subslide"
    }
   },
   "outputs": [],
   "source": [
    "print('Usage of items for loop over a dictionary')\n",
    "for key,value in d.items():\n",
    "    print('The value for key %s is %s'%(key,str(value)))\n",
    "\n",
    "\n",
    "for i in {} :\n",
    "    print(l_k[i],l_v[i])\n",
    "    "
   ]
  },
  {
   "cell_type": "markdown",
   "metadata": {},
   "source": [
    "## Exercise \n",
    "\n",
    "*The House of Papel use case*:\n",
    "\n",
    "Create a list of characters with *Nairoby*, *Rio*, *Berlin* and *Oslo*.\n",
    "\n",
    "Create a list of jobs with: *Boss*, *Killer*, *Hacker* and *Forger*.\n",
    "\n",
    "Using a for loop create ad dictionary that contains for each job the relative character.\n",
    "\n",
    "**EXTRA**: how we can create the same dictionary _without_ using a for loop? Try to search on-line."
   ]
  },
  {
   "cell_type": "code",
   "execution_count": null,
   "metadata": {},
   "outputs": [],
   "source": [
    "listChar = ['Nairoby','Rio','Berlin','Olso']\n",
    "listJob = ['Boss','Killer','Hacker','Forger']\n",
    "dictHouse = {}\n",
    "for i,v in enumerate(listChar):\n",
    "    dictHouse[listJob[i]] = v\n",
    "pp(dictHouse)    "
   ]
  },
  {
   "cell_type": "markdown",
   "metadata": {
    "slideshow": {
     "slide_type": "slide"
    }
   },
   "source": [
    "### Comparison of performance between R and Python on for loops\n",
    "\n",
    "Lets do a speed test using a long list.\n",
    "\n",
    "The difference that will see are due to different nature of object in R and Python.\n",
    "\n",
    "In R variabiles are most of the time vectors, and R is optimize to work with vector. Using a `for` loop in R you are not using this nature, but you are considering one element at the time.\n"
   ]
  },
  {
   "cell_type": "markdown",
   "metadata": {},
   "source": [
    "Now we create the list in R"
   ]
  },
  {
   "cell_type": "code",
   "execution_count": null,
   "metadata": {
    "slideshow": {
     "slide_type": "subslide"
    }
   },
   "outputs": [],
   "source": [
    "%%R -o longListR\n",
    "longListR=seq(1,10000)\n",
    "print(length(longListR))"
   ]
  },
  {
   "cell_type": "markdown",
   "metadata": {
    "slideshow": {
     "slide_type": "fragment"
    }
   },
   "source": [
    "Then we create the list in python"
   ]
  },
  {
   "cell_type": "code",
   "execution_count": null,
   "metadata": {
    "slideshow": {
     "slide_type": "fragment"
    }
   },
   "outputs": [],
   "source": [
    "longListP=[i for i in range(0,10000)]\n",
    "#longListP=range(0,10000)\n",
    "print(len(longListP))"
   ]
  },
  {
   "cell_type": "code",
   "execution_count": null,
   "metadata": {
    "slideshow": {
     "slide_type": "fragment"
    }
   },
   "outputs": [],
   "source": [
    "%%timeit -n 100\n",
    "%%R -i longListR\n",
    "#longList=seq(1,10000)\n",
    "for (i in longListR){a=1}"
   ]
  },
  {
   "cell_type": "code",
   "execution_count": null,
   "metadata": {
    "slideshow": {
     "slide_type": "fragment"
    }
   },
   "outputs": [],
   "source": [
    "%%timeit -n 100\n",
    "for i in longListP:\n",
    "    a=1"
   ]
  },
  {
   "cell_type": "markdown",
   "metadata": {
    "slideshow": {
     "slide_type": "slide"
    }
   },
   "source": [
    "## While Loop\n",
    "\n",
    "In Pyhton a while loop is probabilly less used than the for loop, but it is handy when we have a condition to check."
   ]
  },
  {
   "cell_type": "code",
   "execution_count": null,
   "metadata": {
    "slideshow": {
     "slide_type": "subslide"
    }
   },
   "outputs": [],
   "source": [
    "#First while example\n",
    "i=0\n",
    "while i<10:\n",
    "    print(i)\n",
    "    i+=1\n",
    "#Take note of the compact version on i=i+1"
   ]
  },
  {
   "cell_type": "markdown",
   "metadata": {},
   "source": [
    "**Note**: be aware of how you use the increment. In the above exaple i=10"
   ]
  },
  {
   "cell_type": "markdown",
   "metadata": {
    "slideshow": {
     "slide_type": "fragment"
    }
   },
   "source": [
    "We can also cancatenate the while loop with an else, like if."
   ]
  },
  {
   "cell_type": "code",
   "execution_count": null,
   "metadata": {
    "slideshow": {
     "slide_type": "fragment"
    }
   },
   "outputs": [],
   "source": [
    "count = 0\n",
    "while count < 5:\n",
    "   print(count, \" is  less than 5\")\n",
    "   count += 1\n",
    "else:\n",
    "   print(count, \" is not less than 5\")"
   ]
  },
  {
   "cell_type": "markdown",
   "metadata": {
    "slideshow": {
     "slide_type": "slide"
    }
   },
   "source": [
    "### Comparison between while and for\n",
    "\n",
    "Now we'll do a comparison of performance between `for` and `while`, in order ot understand why `for` is the most used.\n",
    "\n",
    "What is your bet on the result?"
   ]
  },
  {
   "cell_type": "code",
   "execution_count": null,
   "metadata": {
    "slideshow": {
     "slide_type": "subslide"
    }
   },
   "outputs": [],
   "source": [
    "%%timeit -n 100\n",
    "j=0\n",
    "for i in longListP:\n",
    "    j+=1"
   ]
  },
  {
   "cell_type": "code",
   "execution_count": null,
   "metadata": {
    "slideshow": {
     "slide_type": "fragment"
    }
   },
   "outputs": [],
   "source": [
    "%%timeit -n 100\n",
    "j=0\n",
    "while j<=len(longListP)-1:\n",
    "    j+=1"
   ]
  },
  {
   "cell_type": "markdown",
   "metadata": {},
   "source": [
    "So the `for` loop is faster. But what if I have to exit from the loop when a given condition is reached?\n",
    "\n",
    "Must I use `while`?"
   ]
  },
  {
   "cell_type": "code",
   "execution_count": null,
   "metadata": {},
   "outputs": [],
   "source": [
    "for i in longListP:\n",
    "    print(i)\n",
    "    if i == 10:\n",
    "        break"
   ]
  },
  {
   "cell_type": "code",
   "execution_count": null,
   "metadata": {},
   "outputs": [],
   "source": [
    "for i in 'pluto':\n",
    "    if i == 'u':\n",
    "        continue\n",
    "    else:\n",
    "        print(i)\n"
   ]
  },
  {
   "cell_type": "code",
   "execution_count": null,
   "metadata": {},
   "outputs": [],
   "source": [
    "%%timeit -n 100\n",
    "m = len(longListP)\n",
    "j = 1\n",
    "for i in longListP:\n",
    "    if j == m:\n",
    "        break\n",
    "    else: \n",
    "        j += 1"
   ]
  },
  {
   "cell_type": "markdown",
   "metadata": {},
   "source": [
    "## Recap\n",
    "\n",
    "Using the `for` and `while` loop we can iterate over structure, text, ranges ....\n",
    "\n",
    "Often the `for` loop is the most usefull operator.\n",
    "\n",
    "`While` instead give is the possibility of iterate until a give condition is reached.\n",
    "\n",
    "If we are using a `for` loop, we still can controll the execution of the loop using:\n",
    "\n",
    "  - `break`\n",
    "  - `continue`"
   ]
  },
  {
   "cell_type": "markdown",
   "metadata": {},
   "source": [
    "## Exercise While \n",
    "\n",
    "We want to create a big list that contains the Fibonacci's sequence.\n",
    "\n",
    "Starting from the list [1,2] we want to add elements until the sum of elements are less than 100.\n",
    "\n",
    "Use a for Loop to calculate the sum of the elements at each time."
   ]
  },
  {
   "cell_type": "code",
   "execution_count": null,
   "metadata": {},
   "outputs": [],
   "source": []
  },
  {
   "cell_type": "code",
   "execution_count": null,
   "metadata": {},
   "outputs": [],
   "source": []
  },
  {
   "cell_type": "code",
   "execution_count": null,
   "metadata": {},
   "outputs": [],
   "source": [
    "%%R\n",
    "a=c('a','b','c')\n",
    "for (i in a) {print(i)}"
   ]
  },
  {
   "cell_type": "markdown",
   "metadata": {
    "slideshow": {
     "slide_type": "slide"
    }
   },
   "source": [
    "## If else \n",
    "\n",
    "Like in R, in Python we can use if-else for logical conditions, even in one-liner format.\n",
    "We can also use three conditions with `elif`."
   ]
  },
  {
   "cell_type": "code",
   "execution_count": null,
   "metadata": {
    "slideshow": {
     "slide_type": "subslide"
    }
   },
   "outputs": [],
   "source": [
    "#First example\n",
    "j=10\n",
    "if j<9:\n",
    "    print('J is less than 9')\n",
    "else:\n",
    "    print('J is more or equal than 9')"
   ]
  },
  {
   "cell_type": "code",
   "execution_count": null,
   "metadata": {
    "slideshow": {
     "slide_type": "subslide"
    }
   },
   "outputs": [],
   "source": [
    "#One-liner format\n",
    "j=5\n",
    "print('J is less than 9') if j<9 else print('J is more or equal than 9')"
   ]
  },
  {
   "cell_type": "code",
   "execution_count": null,
   "metadata": {
    "slideshow": {
     "slide_type": "subslide"
    }
   },
   "outputs": [],
   "source": [
    "#Elif\n",
    "j=10\n",
    "if j<9:\n",
    "    print('Less')\n",
    "elif j==10:\n",
    "    print('Equal')\n",
    "else:\n",
    "    print('More')\n",
    "#is the same of    \n",
    "if j<9:\n",
    "    print('Less')\n",
    "else:\n",
    "    if j==10:\n",
    "        print('Eq')\n",
    "    else:\n",
    "        print('More')"
   ]
  },
  {
   "cell_type": "markdown",
   "metadata": {
    "slideshow": {
     "slide_type": "subslide"
    }
   },
   "source": [
    "Often is very handy to use logical condition over `type`. In this cases we will use `isistance`."
   ]
  },
  {
   "cell_type": "code",
   "execution_count": null,
   "metadata": {
    "slideshow": {
     "slide_type": "fragment"
    }
   },
   "outputs": [],
   "source": [
    "s='Test string'\n",
    "ns=10\n",
    "testList=[s,ns]\n",
    "for i,cur_elm in enumerate(testList):\n",
    "    print('I am at the postion',i)\n",
    "    if isinstance(cur_elm,str):\n",
    "        print('The element is a string: %s'%cur_elm)\n",
    "    else:\n",
    "        print('The element is not a string: %i'%ns)"
   ]
  },
  {
   "cell_type": "markdown",
   "metadata": {
    "slideshow": {
     "slide_type": "subslide"
    }
   },
   "source": [
    "**NOTE:** in python every empty data structure (list,dict....) is considered `False` in a if statement.\n",
    "    Also `0` is considered `False`, `1` is cosidered `True`"
   ]
  },
  {
   "cell_type": "code",
   "execution_count": null,
   "metadata": {
    "slideshow": {
     "slide_type": "fragment"
    }
   },
   "outputs": [],
   "source": [
    "#Check for an empty dict\n",
    "d={}\n",
    "if d:\n",
    "    pp('d')\n",
    "else:\n",
    "    print('d is empty')\n",
    "#Check for 0"
   ]
  },
  {
   "cell_type": "code",
   "execution_count": null,
   "metadata": {
    "slideshow": {
     "slide_type": "fragment"
    }
   },
   "outputs": [],
   "source": [
    "zero=0\n",
    "if zero:\n",
    "    print('Check passed')\n",
    "else:\n",
    "    print('Check faild')"
   ]
  },
  {
   "cell_type": "markdown",
   "metadata": {},
   "source": [
    "## Real-life Example\n",
    "\n",
    "I want to loop over some Shakespeare's books and try to count the number of rows in each book.\n",
    "\n",
    "I want to create a Dictionary to recap the results.\n",
    "\n",
    "The file are in `Cattolica2019/FirstLesson/data`."
   ]
  },
  {
   "cell_type": "code",
   "execution_count": null,
   "metadata": {},
   "outputs": [],
   "source": [
    "import os\n",
    "import logging \n",
    "from pprint import pprint as pp\n",
    "\n",
    "logging.basicConfig(format='%(asctime)s : %(levelname)s : %(message)s', level=logging.INFO)\n",
    "logger = logging.getLogger('')\n",
    "\n",
    "fold = 'data'\n",
    "dictCountLines = dict()\n",
    "\n",
    "for curFile in os.listdir(fold):\n",
    "    logger.info('The name of the file is %s',curFile)\n",
    "    #count = 0\n",
    "    fullPath = os.path.join(fold,curFile)\n",
    "    logger.info('The path of the file is %s',fullPath)\n",
    "    with open(fullPath,'r') as fi:\n",
    "        for i, line in enumerate(fi):\n",
    "            if i==0:\n",
    "                logger.info('For the file %s the Title is %s',curFile,line)\n",
    "            #count += 1\n",
    "        dictCountLines[curFile] = i+1 #count\n",
    "    logger.info('END OF FILE %s',curFile)\n",
    "logger.info('END OF ALL FILES')\n",
    "pp(dictCountLines)\n"
   ]
  },
  {
   "cell_type": "markdown",
   "metadata": {
    "slideshow": {
     "slide_type": "slide"
    }
   },
   "source": [
    "## End Exercise #1\n",
    "\n",
    "Now let's try to put all together.\n",
    "\n",
    "Starting from a dict with keys like 1,2,3,4... and value like 'a', 'b', 'c'... use a for loop to create a set that\n",
    "  * Contains all the values that have an even key, except for the key 2\n",
    "  * Contains the value for the key 5\n",
    "    \n",
    "We want also to print the key each time we hit an odd key.\n",
    "\n",
    "Than create a list with the values of our set and use a while loop to empty the set. \n",
    "You have to:\n",
    "  * print each time the value that you have removed\n",
    "  * stop when the set is empty.\n",
    "\n",
    "**HINT #1:** `%2` it's module two\n",
    "\n",
    "**HINT #2:** Maybe you can use\n",
    "```\n",
    "import string \n",
    "letters = string.ascii_lowercase\n",
    "```"
   ]
  },
  {
   "cell_type": "code",
   "execution_count": null,
   "metadata": {
    "slideshow": {
     "slide_type": "subslide"
    }
   },
   "outputs": [],
   "source": []
  },
  {
   "cell_type": "markdown",
   "metadata": {},
   "source": [
    "## End Exercise #2\n",
    "\n",
    "Comment the code block below\n",
    "\n",
    "**Hint**: random will extract a random number in a range"
   ]
  },
  {
   "cell_type": "code",
   "execution_count": null,
   "metadata": {},
   "outputs": [],
   "source": [
    "import random\n",
    "import string\n",
    "letters = string.ascii_lowercase\n",
    "retList = []\n",
    "for i in range(10000):\n",
    "    curRandom = random.randrange(0,20)\n",
    "    retList.append(letters[curRandom])"
   ]
  },
  {
   "cell_type": "code",
   "execution_count": null,
   "metadata": {},
   "outputs": [],
   "source": [
    "retList"
   ]
  },
  {
   "cell_type": "markdown",
   "metadata": {},
   "source": [
    "Now create a dict with the number of occorrence of each letter in retList"
   ]
  },
  {
   "cell_type": "code",
   "execution_count": null,
   "metadata": {},
   "outputs": [],
   "source": []
  }
 ],
 "metadata": {
  "celltoolbar": "Slideshow",
  "kernelspec": {
   "display_name": "Python 3",
   "language": "python",
   "name": "python3"
  },
  "language_info": {
   "codemirror_mode": {
    "name": "ipython",
    "version": 3
   },
   "file_extension": ".py",
   "mimetype": "text/x-python",
   "name": "python",
   "nbconvert_exporter": "python",
   "pygments_lexer": "ipython3",
   "version": "3.7.3"
  },
  "toc": {
   "base_numbering": 1,
   "nav_menu": {},
   "number_sections": false,
   "sideBar": false,
   "skip_h1_title": false,
   "title_cell": "Table of Contents",
   "title_sidebar": "Contents",
   "toc_cell": false,
   "toc_position": {},
   "toc_section_display": false,
   "toc_window_display": false
  }
 },
 "nbformat": 4,
 "nbformat_minor": 2
}
