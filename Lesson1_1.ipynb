{
 "cells": [
  {
   "cell_type": "markdown",
   "metadata": {
    "slideshow": {
     "slide_type": "slide"
    }
   },
   "source": [
    "Introduction to Python\n",
    "================================\n",
    "\n",
    "Lesson 1 Part 1\n",
    "--------"
   ]
  },
  {
   "cell_type": "markdown",
   "metadata": {
    "slideshow": {
     "slide_type": "slide"
    }
   },
   "source": [
    "## Intoduction \n",
    "\n",
    "### How I am\n",
    "\n",
    "**Marco Saletta**, *datascientist @facile.it*\n",
    "\n",
    "<img src=\"images/siteExample.png\" alt=\"drawing\" width=\"1000\"/>\n",
    "\n",
    "### Contacts \n",
    "\n",
    "* **Work:** marco.saletta@facile.it\n",
    "* **Personal:** marco.saletta@gmail.com\n",
    "* **Linkedin:** Marco Saletta\n",
    "* **GitHub:** https://github.com/SalMarco"
   ]
  },
  {
   "cell_type": "markdown",
   "metadata": {
    "slideshow": {
     "slide_type": "slide"
    }
   },
   "source": [
    "## Summary\n",
    "This course will be divided in 6 lessons, each one with a theoretical introduction followed by a coding session.\n",
    "\n",
    "The arguments will be the following:\n",
    "  1. Introduction to Python\n",
    "  2. Linear and non-linear models\n",
    "  3. Tensorflow\n",
    "  4. More in depth \n",
    "  5. ...\n",
    "  6. ...\n"
   ]
  },
  {
   "cell_type": "markdown",
   "metadata": {
    "slideshow": {
     "slide_type": "slide"
    }
   },
   "source": [
    "## Lessons' Repository\n",
    "\n",
    "For this series of lesson I'll use [**GitHub**](https://github.com/) to store and share the materials.\n",
    "\n",
    "The repository for this lesson is located on this page: **https://github.com/SalMarco/Cattolica_2020_Lesson2**."
   ]
  },
  {
   "cell_type": "markdown",
   "metadata": {
    "slideshow": {
     "slide_type": "subslide"
    }
   },
   "source": [
    "## What is Git (Wiki)?\n",
    "\n",
    "Git is a distributed version-control system for tracking changes in source code during software development.\n",
    "\n",
    "It is designed for coordinating work among programmers, but it can be used to track changes in any set of files.\n",
    "\n",
    "Its goals include speed, data integrity, and support for distributed, non-linear workflows.\n",
    "\n",
    "Git was created by **[Linus Torvalds](https://en.wikipedia.org/wiki/Linus_Torvalds)** in 2005."
   ]
  },
  {
   "cell_type": "markdown",
   "metadata": {},
   "source": [
    "## What is Git (Me)?\n",
    "\n",
    "Git (GitHub or GitLab) it's the best way to store and share the code that you have written.\n",
    "\n",
    "It allows you to:\n",
    "\n",
    "  * Save your code outside your PC\n",
    "  * Have the code accesible from many PC and User (if you want to do so)\n",
    "  * To automatically keep track of changes and be able to **restore a previous state**\n",
    "  * Be able to try side-projects without compromising what you have already done\n",
    "  * Work on the same project with others and \n",
    "      * Be always alligned to the last version of each file\n",
    "      * See the update and keep trace of what has been modified and from whom\n",
    "      * Handle easly conflict between version \n",
    "      * Ask someone to validate your code"
   ]
  },
  {
   "cell_type": "markdown",
   "metadata": {},
   "source": [
    "## Git Commands\n",
    "\n",
    "For the sake of this course you need to know the following commands:\n",
    "\n",
    "  1. `git clone`: to clone localy a repository. Clone __is different from download__ because give us the possibility to update the repository with a simple command \n",
    "  2. `git pull origin master`: allows us to retrive the last updates from the repository \n",
    "  3. `git add`: allows as to add new or update file to the ones tracked by te repository\n",
    "  4. `git commit -m \"Your message here\"`: allows us to keep note what we have modified \n",
    "  5. `git push origin master`: allows us to actually make our changes availables on the repository\n",
    "  \n",
    "**NOTE:** The commands that you'll actually need for this course are the **first two**."
   ]
  },
  {
   "cell_type": "markdown",
   "metadata": {
    "slideshow": {
     "slide_type": "slide"
    }
   },
   "source": [
    "## What is Python (Wiki)?\n",
    "\n",
    "Python is an interpreted high-level programming language for general-purpose programming. Created by Guido van Rossum and first released in 1991, Python has a design philosophy that emphasizes code readability, notably using significant whitespace. It provides constructs that enable clear programming on both small and large scales\n",
    "\n",
    "Python features a dynamic type system and automatic memory management. It supports multiple programming paradigms, including object-oriented, imperative, functional and procedural, and has a large and comprehensive standard library.\n",
    "\n",
    "It's commonly considered as an interpreted programmin language."
   ]
  },
  {
   "cell_type": "markdown",
   "metadata": {
    "slideshow": {
     "slide_type": "slide"
    }
   },
   "source": [
    "## What is Python (Me)?\n",
    "Python it’s a very flessibile and well supported programming language.\n",
    "\n",
    "It can be used for scripting, pipeline definition, datascience and data processing.  \n",
    "\n",
    "It handles well different kind of data:\n",
    "\n",
    "  - Data (.csv,excel, data frames….)\n",
    "  - Text \n",
    "  - JSON, Html, XML\n",
    "  \n",
    "It can be used as imperative, but shows his best using function and classes.\n",
    "\n",
    "It uses heavily white spaces and indentation in order to make it easily readable."
   ]
  },
  {
   "cell_type": "markdown",
   "metadata": {
    "slideshow": {
     "slide_type": "fragment"
    }
   },
   "source": [
    "**BE AWARE OF THE SPACES!**"
   ]
  },
  {
   "cell_type": "markdown",
   "metadata": {
    "slideshow": {
     "slide_type": "slide"
    }
   },
   "source": [
    "## Why Python?\n",
    "\n",
    "Python on the last few years is showing a huge increase in popularity among other programming lenguages.\n",
    "\n",
    "At the moment it's **the most popular** language, right above Java!\n",
    "\n",
    "[link to the video](https://www.youtube.com/watch?v=yL704C1PI4o)"
   ]
  },
  {
   "cell_type": "markdown",
   "metadata": {
    "slideshow": {
     "slide_type": "slide"
    }
   },
   "source": [
    "## Comparison with R \n",
    "\n",
    "R is a language and environment for statistical computing and graphics.\n",
    "\n",
    "R in an interpreted language.\n",
    "\n",
    "R supports procedural programming with functions and, for some functions, object-oriented programming with generic functions. A generic function acts differently depending on the classes of arguments passed to it. In other words, the generic function dispatches the function (method) specific to that class of object. For example, R has a generic print function that can print almost every class of object in R with a simple print(objectname) syntax.\n",
    "\n",
    "Each elemt in R is a vector. Even `2+2` is done as sum of two vector.\n"
   ]
  },
  {
   "cell_type": "markdown",
   "metadata": {
    "slideshow": {
     "slide_type": "slide"
    }
   },
   "source": [
    "## Why choose R or Python?\n",
    "\n",
    "As we will see there isn't a right or wrong, nut usually:\n",
    "\n",
    "  - **R:** is better for data mining ad exploration \n",
    "  - **Python:** is better for the production, complex analysis and performance"
   ]
  },
  {
   "cell_type": "code",
   "execution_count": 1,
   "metadata": {
    "slideshow": {
     "slide_type": "notes"
    }
   },
   "outputs": [],
   "source": [
    "#R 'kernel' to run R chunk\n",
    "%load_ext rpy2.ipython"
   ]
  },
  {
   "cell_type": "code",
   "execution_count": 2,
   "metadata": {
    "slideshow": {
     "slide_type": "subslide"
    }
   },
   "outputs": [
    {
     "name": "stderr",
     "output_type": "stream",
     "text": [
      "R[write to console]: \n",
      "Attaching package: ‘dplyr’\n",
      "\n",
      "\n",
      "R[write to console]: The following objects are masked from ‘package:stats’:\n",
      "\n",
      "    filter, lag\n",
      "\n",
      "\n",
      "R[write to console]: The following objects are masked from ‘package:base’:\n",
      "\n",
      "    intersect, setdiff, setequal, union\n",
      "\n",
      "\n"
     ]
    },
    {
     "name": "stdout",
     "output_type": "stream",
     "text": [
      "[1] \"Calculating the produt\"\n",
      "[1] \"Calculating sum using the function\"\n",
      "[1] \"Sum of three numbers\"\n",
      "[1] \"The product is 610000 the sum 330.5\"\n"
     ]
    }
   ],
   "source": [
    "%%R\n",
    "library(dplyr)\n",
    "library(magrittr)\n",
    "\n",
    "#Defining a simple function\n",
    "simpleSum <- function(a,b,d){\n",
    "  print('Sum of three numbers')\n",
    "  ret=a+b+d\n",
    "  return(ret)\n",
    "}\n",
    "\n",
    "\n",
    "#Variabiles definition\n",
    "a=100\n",
    "b=200\n",
    "d=30.5\n",
    "print(\"Calculating the produt\")\n",
    "p=a*b*d\n",
    "#Calling the function\n",
    "print('Calculating sum using the function')\n",
    "s=simpleSum(a,b,d)\n",
    "print(paste0('The product is ',p,' the sum ', s))\n",
    "# Creating a named vector\n",
    "nv=c(s,p)\n",
    "name=c('sum','product')\n",
    "names(nv)=name\n"
   ]
  },
  {
   "cell_type": "code",
   "execution_count": null,
   "metadata": {
    "slideshow": {
     "slide_type": "subslide"
    }
   },
   "outputs": [],
   "source": [
    "import os,sys\n",
    "from pprint import pprint as pp\n",
    "\n",
    "#Defining a simple function\n",
    "def simpleSum(a,b,c):\n",
    "    print(\"Sum of three numbers\")\n",
    "    ret=a+b+c\n",
    "    return ret\n",
    "\n",
    "#Defining the main part of the script\n",
    "def main():\n",
    "    #Variabiles definition\n",
    "    a=100\n",
    "    b=200\n",
    "    c=30.5\n",
    "    print(\"Calculating the produt\")\n",
    "    p=a*b*c\n",
    "    #Calling the function\n",
    "    print('Calculating sum using the function')\n",
    "    s=simpleSum(a,b,c)\n",
    "    print('The product is ',p,'the sum ', s)\n",
    "    # Creating a dictionary\n",
    "    d={'sum':s,'product':p}\n",
    "    pp(d)\n",
    "main()"
   ]
  },
  {
   "cell_type": "markdown",
   "metadata": {
    "slideshow": {
     "slide_type": "slide"
    }
   },
   "source": [
    "## Let's start\n",
    "\n",
    "In this part we will explore Python types.\n",
    "\n",
    "But in order to start we have to load some packages.\n",
    "\n",
    "This import will allow us to use `pprint` just calling `pp` to pretty print dictionaries.\n",
    "\n",
    "We also load a module to run `R` codes in some cells above"
   ]
  },
  {
   "cell_type": "code",
   "execution_count": 3,
   "metadata": {
    "slideshow": {
     "slide_type": "fragment"
    }
   },
   "outputs": [],
   "source": [
    "#Python libraries\n",
    "from pprint import pprint as pp\n",
    "from timeit import timeit "
   ]
  },
  {
   "cell_type": "markdown",
   "metadata": {
    "slideshow": {
     "slide_type": "slide"
    }
   },
   "source": [
    "## Types\n",
    "\n",
    "Considering variabiles, the main types in Python are:\n",
    "\n",
    "  - int\n",
    "  - float\n",
    "  - char\n",
    "  - bool\n",
    "  \n",
    "There are also other types, but those are the principals."
   ]
  },
  {
   "cell_type": "code",
   "execution_count": 1,
   "metadata": {
    "slideshow": {
     "slide_type": "subslide"
    }
   },
   "outputs": [
    {
     "name": "stdout",
     "output_type": "stream",
     "text": [
      "type of v_int <class 'int'>\n",
      "type of v_float <class 'float'>\n",
      "type of v_str <class 'str'>\n",
      "type of v_bool <class 'bool'>\n"
     ]
    }
   ],
   "source": [
    "v_int=1\n",
    "print('type of v_int',type(v_int))\n",
    "v_float=1.0\n",
    "print('type of v_float',type(v_float))\n",
    "v_str='Python is fun!'\n",
    "print('type of v_str',type(v_str))\n",
    "v_bool=False\n",
    "print('type of v_bool',type(v_bool))\n"
   ]
  },
  {
   "cell_type": "markdown",
   "metadata": {
    "slideshow": {
     "slide_type": "fragment"
    }
   },
   "source": [
    "We can also change the type of a varibile"
   ]
  },
  {
   "cell_type": "code",
   "execution_count": 3,
   "metadata": {
    "slideshow": {
     "slide_type": "fragment"
    }
   },
   "outputs": [
    {
     "name": "stdout",
     "output_type": "stream",
     "text": [
      "<class 'str'>\n",
      "type of v_int <class 'float'> 1.0\n"
     ]
    }
   ],
   "source": [
    "v_int=str(v_int)\n",
    "print(type(v_int))\n",
    "print('type of v_float',type(v_float),str(v_float))"
   ]
  },
  {
   "cell_type": "markdown",
   "metadata": {},
   "source": [
    "**NOTE**: Python has dynamic types"
   ]
  },
  {
   "cell_type": "code",
   "execution_count": null,
   "metadata": {},
   "outputs": [],
   "source": [
    "v_int=float(v_int)\n",
    "print('type of v_int',type(v_int),v_int)\n",
    "v_int=float('15.5')\n",
    "print('type of v_int',type(v_int),v_int)"
   ]
  },
  {
   "cell_type": "markdown",
   "metadata": {},
   "source": [
    "Now let's consider two peculiar cases:"
   ]
  },
  {
   "cell_type": "code",
   "execution_count": 4,
   "metadata": {
    "slideshow": {
     "slide_type": "fragment"
    }
   },
   "outputs": [
    {
     "name": "stdout",
     "output_type": "stream",
     "text": [
      "type of v_bool <class 'int'> 0\n",
      "type of v_int <class 'float'> 1.0\n"
     ]
    }
   ],
   "source": [
    "v_bool=int(v_bool)\n",
    "print('type of v_bool',type(v_bool),v_bool)"
   ]
  },
  {
   "cell_type": "code",
   "execution_count": 13,
   "metadata": {
    "slideshow": {
     "slide_type": "subslide"
    }
   },
   "outputs": [
    {
     "name": "stdout",
     "output_type": "stream",
     "text": [
      "type of v_int <class 'int'> 1\n"
     ]
    }
   ],
   "source": [
    "v_int=int(1.0)\n",
    "print('type of v_int',type(v_int),v_int)"
   ]
  },
  {
   "cell_type": "code",
   "execution_count": 5,
   "metadata": {
    "slideshow": {
     "slide_type": "subslide"
    }
   },
   "outputs": [
    {
     "name": "stdout",
     "output_type": "stream",
     "text": [
      "type of v_int <class 'int'> 15\n"
     ]
    }
   ],
   "source": [
    "v_float=int(15.6)\n",
    "print('type of v_int',type(v_float),v_float)"
   ]
  },
  {
   "cell_type": "markdown",
   "metadata": {},
   "source": [
    "## Exercise \n",
    "\n",
    "What are the types of:\n",
    "\n",
    "  - a = 1\n",
    "  - b = 2.0\n",
    "  - c = int(b)\n",
    "  - d = a/c\n",
    "  - e = '5.5'\n",
    "  - f = int(e) \n",
    "  \n",
    "What's the real value of `f`? \n",
    "\n",
    "And what if `e='15.6'`?"
   ]
  },
  {
   "cell_type": "code",
   "execution_count": 19,
   "metadata": {},
   "outputs": [
    {
     "data": {
      "text/plain": [
       "5.6"
      ]
     },
     "execution_count": 19,
     "metadata": {},
     "output_type": "execute_result"
    }
   ],
   "source": []
  },
  {
   "cell_type": "markdown",
   "metadata": {
    "slideshow": {
     "slide_type": "slide"
    }
   },
   "source": [
    "## Structures\n",
    "\n",
    "Let's consider data structure in Python: \n",
    "  - list \n",
    "  - tuple\n",
    "  - set\n",
    "  - dictionary\n"
   ]
  },
  {
   "cell_type": "markdown",
   "metadata": {
    "slideshow": {
     "slide_type": "slide"
    }
   },
   "source": [
    "### List\n",
    "\n",
    "List in Python are sequence of objects.\n",
    "\n",
    "They are more similar to the sequence create with `c()` in R than `list()`, which are much more matrix."
   ]
  },
  {
   "cell_type": "code",
   "execution_count": 7,
   "metadata": {
    "slideshow": {
     "slide_type": "subslide"
    }
   },
   "outputs": [
    {
     "name": "stdout",
     "output_type": "stream",
     "text": [
      "type of l1 <class 'list'>\n",
      "[1, 2, 3]\n",
      "Lenght of the list 3\n"
     ]
    },
    {
     "data": {
      "text/plain": [
       "1"
      ]
     },
     "execution_count": 7,
     "metadata": {},
     "output_type": "execute_result"
    }
   ],
   "source": [
    "#List\n",
    "a=1\n",
    "b=2\n",
    "c=3\n",
    "l1=[a,b,c]\n",
    "l2=[4,5,6]\n",
    "print('type of l1',type(l1))\n",
    "print(l1)\n",
    "#Lenght of a list\n",
    "print('Lenght of the list',len(l1))\n",
    "# Access element of the list\n",
    "l1[0]"
   ]
  },
  {
   "cell_type": "code",
   "execution_count": 8,
   "metadata": {},
   "outputs": [],
   "source": [
    "pippo = list() "
   ]
  },
  {
   "cell_type": "markdown",
   "metadata": {
    "slideshow": {
     "slide_type": "subslide"
    }
   },
   "source": [
    "**NOTE:** in Python we always start from 0!!!\n",
    "The 3rd elemt in the list is accessible with 2, 3 is not present"
   ]
  },
  {
   "cell_type": "code",
   "execution_count": 9,
   "metadata": {
    "slideshow": {
     "slide_type": "fragment"
    }
   },
   "outputs": [
    {
     "ename": "IndexError",
     "evalue": "list index out of range",
     "output_type": "error",
     "traceback": [
      "\u001b[0;31m---------------------------------------------------------------------------\u001b[0m",
      "\u001b[0;31mIndexError\u001b[0m                                Traceback (most recent call last)",
      "\u001b[0;32m<ipython-input-9-a0f5082a2e0d>\u001b[0m in \u001b[0;36m<module>\u001b[0;34m\u001b[0m\n\u001b[1;32m      1\u001b[0m \u001b[0ml1\u001b[0m\u001b[0;34m[\u001b[0m\u001b[0;36m2\u001b[0m\u001b[0;34m]\u001b[0m\u001b[0;34m\u001b[0m\u001b[0;34m\u001b[0m\u001b[0m\n\u001b[0;32m----> 2\u001b[0;31m \u001b[0ml1\u001b[0m\u001b[0;34m[\u001b[0m\u001b[0;36m3\u001b[0m\u001b[0;34m]\u001b[0m\u001b[0;34m\u001b[0m\u001b[0;34m\u001b[0m\u001b[0m\n\u001b[0m",
      "\u001b[0;31mIndexError\u001b[0m: list index out of range"
     ]
    }
   ],
   "source": [
    "l1[2]\n",
    "l1[3]"
   ]
  },
  {
   "cell_type": "markdown",
   "metadata": {},
   "source": [
    "We can also acces elements using negative numbers:"
   ]
  },
  {
   "cell_type": "code",
   "execution_count": 10,
   "metadata": {},
   "outputs": [
    {
     "name": "stdout",
     "output_type": "stream",
     "text": [
      "3\n",
      "The last value of l1 is: 3\n",
      "The last value od l1 using len: 3\n"
     ]
    }
   ],
   "source": [
    "print(l1[-1])\n",
    "print('The last value of l1 is:', l1[2])\n",
    "# The last value of a list it's also accesible with \n",
    "print('The last value od l1 using len:',l1[len(l1)-1])"
   ]
  },
  {
   "cell_type": "markdown",
   "metadata": {},
   "source": [
    "So we have 3 way to access the last element of a list. \n",
    "Can you imagine why we should use one or another?"
   ]
  },
  {
   "cell_type": "markdown",
   "metadata": {
    "slideshow": {
     "slide_type": "subslide"
    }
   },
   "source": [
    "We can add elements to a list and modify it."
   ]
  },
  {
   "cell_type": "code",
   "execution_count": 11,
   "metadata": {},
   "outputs": [
    {
     "name": "stdout",
     "output_type": "stream",
     "text": [
      "List l1: [1, 2, 3]\n",
      "List l2: [4, 5, 6]\n"
     ]
    }
   ],
   "source": [
    "print('List l1:',l1)\n",
    "print('List l2:',l2)"
   ]
  },
  {
   "cell_type": "code",
   "execution_count": 12,
   "metadata": {
    "slideshow": {
     "slide_type": "fragment"
    }
   },
   "outputs": [
    {
     "name": "stdout",
     "output_type": "stream",
     "text": [
      "[1, 2, 3]\n",
      "[1, 2, 3, 20]\n"
     ]
    }
   ],
   "source": [
    "l1_2=l1\n",
    "l2_2=l2\n",
    "print(l1_2)\n",
    "l1_2.append(20)\n",
    "print(l1_2)"
   ]
  },
  {
   "cell_type": "code",
   "execution_count": 13,
   "metadata": {
    "slideshow": {
     "slide_type": "fragment"
    }
   },
   "outputs": [
    {
     "name": "stdout",
     "output_type": "stream",
     "text": [
      "Now l1 is : [1, 2, 3, 20]\n"
     ]
    }
   ],
   "source": [
    "print('Now l1 is :',l1)"
   ]
  },
  {
   "cell_type": "code",
   "execution_count": 14,
   "metadata": {
    "slideshow": {
     "slide_type": "fragment"
    }
   },
   "outputs": [
    {
     "name": "stdout",
     "output_type": "stream",
     "text": [
      "l1_2 with the new first element: [10, 2, 3, 20]\n"
     ]
    }
   ],
   "source": [
    "l1_2[0]=10\n",
    "print('l1_2 with the new first element:',l1_2)"
   ]
  },
  {
   "cell_type": "code",
   "execution_count": 15,
   "metadata": {
    "slideshow": {
     "slide_type": "fragment"
    }
   },
   "outputs": [
    {
     "name": "stdout",
     "output_type": "stream",
     "text": [
      "[10, 2, 3, 20, 4, 5, 6]\n"
     ]
    }
   ],
   "source": [
    "# Append l2 at the end of l1\n",
    "l1_2.extend(l2_2)\n",
    "print(l1_2)"
   ]
  },
  {
   "cell_type": "code",
   "execution_count": 16,
   "metadata": {
    "slideshow": {
     "slide_type": "fragment"
    }
   },
   "outputs": [
    {
     "name": "stdout",
     "output_type": "stream",
     "text": [
      "[1, 2, 3, [4, 5, 6]]\n"
     ]
    }
   ],
   "source": [
    "l3=[1,2,3]\n",
    "l3.append(l2_2)\n",
    "print(l3)\n",
    "\n",
    "#print"
   ]
  },
  {
   "cell_type": "code",
   "execution_count": 38,
   "metadata": {
    "slideshow": {
     "slide_type": "fragment"
    }
   },
   "outputs": [
    {
     "name": "stdout",
     "output_type": "stream",
     "text": [
      "[1, 2, 3, 100]\n",
      "[1, 2, 3]\n",
      "[1, 2, 3, 99]\n",
      "[1, 2, 3]\n"
     ]
    }
   ],
   "source": [
    "l3=[1,2,3]\n",
    "l4=l3.copy()\n",
    "l4.append(100)\n",
    "print(l4)\n",
    "print(l3)\n",
    "l5=list(l3)\n",
    "l5.append(99)\n",
    "print(l5)\n",
    "print(l3)"
   ]
  },
  {
   "cell_type": "markdown",
   "metadata": {},
   "source": [
    "I can also remove elements from list.\n",
    "We have many ways:\n",
    "  1. by position: del\n",
    "  2. by value: remove()\n",
    "  3. by position an return the value: pop()\n",
    "  "
   ]
  },
  {
   "cell_type": "code",
   "execution_count": 24,
   "metadata": {},
   "outputs": [
    {
     "name": "stdout",
     "output_type": "stream",
     "text": [
      "[0, 1, 2, 3, 4, 5]\n",
      "After del 0 [1, 2, 3, 4, 5]\n",
      "After remove 4 [1, 2, 3, 5]\n",
      "The value of the position 0 is: 1\n",
      "[2, 3, 5]\n"
     ]
    }
   ],
   "source": [
    "l6=[i for i in range(0,6)]\n",
    "print(l6)\n",
    "del l6[0]\n",
    "print('After del 0',l6)\n",
    "l6.remove(4)\n",
    "print('After remove 4',l6)\n",
    "print('The value of the position 0 is: %i'%l6.pop(0))\n",
    "print(l6)"
   ]
  },
  {
   "cell_type": "markdown",
   "metadata": {},
   "source": [
    "## Exercise\n",
    "\n",
    "Let's recap what we have seen on list with the following steps:\n",
    "\n",
    "  1. Create a list of 4 values (`listEx1`)\n",
    "  2. Create a second list staring from the first one (`listEx2`) \n",
    "  3. Change the first and last element of `listEx1`\n",
    "  4. Add some elements to `listEx2`\n",
    "  5. Create one list using `listEx2` and `listEx2`\n",
    "  \n",
    "Remember that you can use:\n",
    "  \n",
    "  - `len`\n",
    "  - `copy`\n",
    "  - `append`\n",
    "  - `extend`\n",
    "  "
   ]
  },
  {
   "cell_type": "code",
   "execution_count": 45,
   "metadata": {},
   "outputs": [
    {
     "name": "stdout",
     "output_type": "stream",
     "text": [
      "None\n"
     ]
    }
   ],
   "source": []
  },
  {
   "cell_type": "markdown",
   "metadata": {
    "slideshow": {
     "slide_type": "slide"
    }
   },
   "source": [
    "### Tuple\n",
    "\n",
    "A tuple id a kind of list, but it's immutable."
   ]
  },
  {
   "cell_type": "code",
   "execution_count": 17,
   "metadata": {
    "slideshow": {
     "slide_type": "subslide"
    }
   },
   "outputs": [
    {
     "name": "stdout",
     "output_type": "stream",
     "text": [
      "type of t1: <class 'tuple'>, type of t2: <class 'tuple'>, type of t3: <class 'tuple'>\n",
      "First element of t1: 1\n",
      "Len of t2: 3\n"
     ]
    }
   ],
   "source": [
    "t1=(1,2,3)\n",
    "t2=('a','b',4)\n",
    "t3=tuple()\n",
    "print('type of t1: %s, type of t2: %s, type of t3: %s'%(type(t1),type(t2),type(t3)))\n",
    "print('First element of t1: %i'%t1[0])\n",
    "print('Len of t2: %i'%len(t2))"
   ]
  },
  {
   "cell_type": "markdown",
   "metadata": {
    "slideshow": {
     "slide_type": "slide"
    }
   },
   "source": [
    "## Dictionary\n",
    "\n",
    "A Dictionary is a collection of key-value couples. In python a dictionary has three main features:\n",
    "\n",
    "  - Keys are unique\n",
    "  - You can acces an element using is key\n",
    "  - Keys are hashes"
   ]
  },
  {
   "cell_type": "code",
   "execution_count": 47,
   "metadata": {
    "slideshow": {
     "slide_type": "subslide"
    }
   },
   "outputs": [
    {
     "name": "stdout",
     "output_type": "stream",
     "text": [
      "Type of d1:<class 'dict'> and d2:<class 'dict'>\n"
     ]
    }
   ],
   "source": [
    "d1=dict()\n",
    "d2={'a':1,'b':2,'c':3}\n",
    "print('Type of d1:%s and d2:%s'%(type(d1),type(d2)))"
   ]
  },
  {
   "cell_type": "markdown",
   "metadata": {},
   "source": [
    "Lets create a big dictionary using the letters of the alphabet:"
   ]
  },
  {
   "cell_type": "code",
   "execution_count": 49,
   "metadata": {
    "slideshow": {
     "slide_type": "subslide"
    }
   },
   "outputs": [
    {
     "data": {
      "text/plain": [
       "['A',\n",
       " 'B',\n",
       " 'C',\n",
       " 'D',\n",
       " 'E',\n",
       " 'F',\n",
       " 'G',\n",
       " 'H',\n",
       " 'I',\n",
       " 'J',\n",
       " 'K',\n",
       " 'L',\n",
       " 'M',\n",
       " 'N',\n",
       " 'O',\n",
       " 'P',\n",
       " 'Q',\n",
       " 'R',\n",
       " 'S',\n",
       " 'T',\n",
       " 'U',\n",
       " 'V',\n",
       " 'W',\n",
       " 'X',\n",
       " 'Y',\n",
       " 'Z']"
      ]
     },
     "execution_count": 49,
     "metadata": {},
     "output_type": "execute_result"
    }
   ],
   "source": [
    "# Creation of a list cotaning letters\n",
    "import string\n",
    "letters=list(string.ascii_uppercase)\n",
    "letters"
   ]
  },
  {
   "cell_type": "code",
   "execution_count": 48,
   "metadata": {
    "slideshow": {
     "slide_type": "subslide"
    }
   },
   "outputs": [
    {
     "name": "stdout",
     "output_type": "stream",
     "text": [
      "['A', 'B', 'C', 'D', 'E', 'F', 'G', 'H', 'I', 'J', 'K', 'L', 'M', 'N', 'O', 'P', 'Q', 'R', 'S', 'T', 'U', 'V', 'W', 'X', 'Y', 'Z']\n",
      "Using print\n",
      "{'A': 0, 'B': 1, 'C': 2, 'D': 3, 'E': 4, 'F': 5, 'G': 6, 'H': 7, 'I': 8, 'J': 9, 'K': 10, 'L': 11, 'M': 12, 'N': 13, 'O': 14, 'P': 15, 'Q': 16, 'R': 17, 'S': 18, 'T': 19, 'U': 20, 'V': 21, 'W': 22, 'X': 23, 'Y': 24, 'Z': 25}\n",
      "Using pp\n",
      "{'A': 0,\n",
      " 'B': 1,\n",
      " 'C': 2,\n",
      " 'D': 3,\n",
      " 'E': 4,\n",
      " 'F': 5,\n",
      " 'G': 6,\n",
      " 'H': 7,\n",
      " 'I': 8,\n",
      " 'J': 9,\n",
      " 'K': 10,\n",
      " 'L': 11,\n",
      " 'M': 12,\n",
      " 'N': 13,\n",
      " 'O': 14,\n",
      " 'P': 15,\n",
      " 'Q': 16,\n",
      " 'R': 17,\n",
      " 'S': 18,\n",
      " 'T': 19,\n",
      " 'U': 20,\n",
      " 'V': 21,\n",
      " 'W': 22,\n",
      " 'X': 23,\n",
      " 'Y': 24,\n",
      " 'Z': 25}\n"
     ]
    }
   ],
   "source": [
    "print(letters)\n",
    "d3={letters[i]:i for i in range(0,len(letters))}\n",
    "# Let's use the pp library\n",
    "print('Using print')\n",
    "print(d3)\n",
    "print('Using pp')\n",
    "pp(d3)"
   ]
  },
  {
   "cell_type": "code",
   "execution_count": 65,
   "metadata": {
    "slideshow": {
     "slide_type": "subslide"
    }
   },
   "outputs": [
    {
     "name": "stdout",
     "output_type": "stream",
     "text": [
      "{'a': 1, 'b': 2, 'c': 3, 'l': 60}\n",
      "The value for the key \"a\" is 1\n"
     ]
    }
   ],
   "source": [
    "pp(d2)\n",
    "# Access  an elemnt in a dict\n",
    "print('The value for the key \"a\" is %i'%d2['a'])"
   ]
  },
  {
   "cell_type": "code",
   "execution_count": 52,
   "metadata": {
    "slideshow": {
     "slide_type": "subslide"
    }
   },
   "outputs": [
    {
     "name": "stdout",
     "output_type": "stream",
     "text": [
      "dict_keys(['a', 'b', 'c'])\n",
      "dict_values([1, 2, 3])\n",
      "Type of ldv: <class 'dict_values'>\n"
     ]
    }
   ],
   "source": [
    "#Acces the list ok keys and values in the dict\n",
    "print(d2.keys())\n",
    "print(d2.values())\n",
    "ldv=d2.values()\n",
    "print('Type of ldv: %s'%type(ldv))\n"
   ]
  },
  {
   "cell_type": "code",
   "execution_count": 66,
   "metadata": {
    "slideshow": {
     "slide_type": "subslide"
    }
   },
   "outputs": [
    {
     "name": "stdout",
     "output_type": "stream",
     "text": [
      "{'a': 1, 'b': 2, 'c': 3, 'd': 10, 'l': 60}\n"
     ]
    }
   ],
   "source": [
    "#Add an elemnt in the dictionary\n",
    "d2['d']=10\n",
    "pp(d2)"
   ]
  },
  {
   "cell_type": "code",
   "execution_count": 54,
   "metadata": {
    "slideshow": {
     "slide_type": "subslide"
    }
   },
   "outputs": [
    {
     "name": "stdout",
     "output_type": "stream",
     "text": [
      "{'a': 1, 'b': 2, 'c': 3, 'd': 20}\n"
     ]
    }
   ],
   "source": [
    "#Replace an elemnt in d2, keys are unique!\n",
    "d2['d']=20\n",
    "pp(d2)"
   ]
  },
  {
   "cell_type": "code",
   "execution_count": 57,
   "metadata": {
    "slideshow": {
     "slide_type": "subslide"
    }
   },
   "outputs": [
    {
     "name": "stdout",
     "output_type": "stream",
     "text": [
      "No 'e' in d2\n"
     ]
    }
   ],
   "source": [
    "#Check in a given key is present in the dict\n",
    "if 'e' in d2:\n",
    "    print(\"The key 'd' is in d2\")\n",
    "else:\n",
    "    print(\"No 'e' in d2\")\n",
    "    "
   ]
  },
  {
   "cell_type": "markdown",
   "metadata": {},
   "source": [
    "I can also do the same thing with lists:"
   ]
  },
  {
   "cell_type": "code",
   "execution_count": 64,
   "metadata": {},
   "outputs": [
    {
     "name": "stdout",
     "output_type": "stream",
     "text": [
      "no\n"
     ]
    },
    {
     "data": {
      "text/plain": [
       "{'a': 1, 'b': 2, 'c': 3, 'l': 60}"
      ]
     },
     "execution_count": 64,
     "metadata": {},
     "output_type": "execute_result"
    }
   ],
   "source": [
    "ld = ['a','b','c']\n",
    "if 'd' in ld:\n",
    "    print('ok')\n",
    "else :\n",
    "    print('no')"
   ]
  },
  {
   "cell_type": "code",
   "execution_count": null,
   "metadata": {
    "slideshow": {
     "slide_type": "subslide"
    }
   },
   "outputs": [],
   "source": [
    "#Removing and element from the dict\n",
    "del(d2['d'])"
   ]
  },
  {
   "cell_type": "code",
   "execution_count": 67,
   "metadata": {
    "slideshow": {
     "slide_type": "subslide"
    }
   },
   "outputs": [
    {
     "name": "stdout",
     "output_type": "stream",
     "text": [
      "One liner of if else\n",
      "The key 'd' is in d2\n"
     ]
    }
   ],
   "source": [
    "#FYI you can also make the previous check in one line, like ifelse in R\n",
    "print('One liner of if else')\n",
    "print(\"The key 'd' is in d2\") if 'd' in d2 else print(\"No 'd' in d2\")"
   ]
  },
  {
   "cell_type": "markdown",
   "metadata": {},
   "source": [
    "## Exercise\n",
    "\n",
    "Can you tell what are the difference between `dict` and `list` when we need to:\n",
    "  \n",
    "  1. Acces a specific value\n",
    "  2. Look if a value is present \n",
    "  \n",
    "?"
   ]
  },
  {
   "cell_type": "markdown",
   "metadata": {},
   "source": [
    "## Exercise \n",
    "\n",
    "Create a dictionary that holds the following iformations about friuts and energetic values (in kcal):\n",
    "\n",
    "  - apple - 60\n",
    "  - anans - 50\n",
    "  - banana - 100\n",
    "  \n",
    "How can you tell me what id the fruit with **50kcal**?"
   ]
  },
  {
   "cell_type": "code",
   "execution_count": null,
   "metadata": {},
   "outputs": [],
   "source": []
  },
  {
   "cell_type": "code",
   "execution_count": 72,
   "metadata": {},
   "outputs": [
    {
     "name": "stdout",
     "output_type": "stream",
     "text": [
      "apple\n"
     ]
    }
   ],
   "source": []
  },
  {
   "cell_type": "markdown",
   "metadata": {
    "slideshow": {
     "slide_type": "slide"
    }
   },
   "source": [
    "## Sets\n",
    "\n",
    "Set are substantially dictionary with only keys and no value.\n",
    "They retains the most important proprities of dictionaries."
   ]
  },
  {
   "cell_type": "code",
   "execution_count": 74,
   "metadata": {
    "slideshow": {
     "slide_type": "subslide"
    }
   },
   "outputs": [
    {
     "name": "stdout",
     "output_type": "stream",
     "text": [
      "Len of s2 is: 3\n"
     ]
    },
    {
     "data": {
      "text/plain": [
       "{'a', 'b', 'c'}"
      ]
     },
     "execution_count": 74,
     "metadata": {},
     "output_type": "execute_result"
    }
   ],
   "source": [
    "s1=set()\n",
    "s2={'a','b','c'}\n",
    "print('Len of s2 is: %i'%len(s2))\n",
    "s2"
   ]
  },
  {
   "cell_type": "code",
   "execution_count": 75,
   "metadata": {
    "slideshow": {
     "slide_type": "subslide"
    }
   },
   "outputs": [
    {
     "name": "stdout",
     "output_type": "stream",
     "text": [
      "{'a', 'b', 'c', 'd'}\n"
     ]
    }
   ],
   "source": [
    "#Add an element in s2\n",
    "s2.add('d')\n",
    "pp(s2)"
   ]
  },
  {
   "cell_type": "code",
   "execution_count": 76,
   "metadata": {
    "slideshow": {
     "slide_type": "subslide"
    }
   },
   "outputs": [
    {
     "name": "stdout",
     "output_type": "stream",
     "text": [
      "{'b', 'c', 'd'}\n"
     ]
    },
    {
     "data": {
      "text/plain": [
       "False"
      ]
     },
     "execution_count": 76,
     "metadata": {},
     "output_type": "execute_result"
    }
   ],
   "source": [
    "#Remove an element form s2\n",
    "s2.remove('a')\n",
    "pp(s2)\n",
    "'a'in s2"
   ]
  },
  {
   "cell_type": "markdown",
   "metadata": {},
   "source": [
    "## Question \n",
    "\n",
    "Can you imagine why I should use a `set`?"
   ]
  },
  {
   "cell_type": "markdown",
   "metadata": {
    "slideshow": {
     "slide_type": "slide"
    }
   },
   "source": [
    "## Comparison between sets and lists\n",
    "\n",
    "Before moving on with other properties of set, let's understand one of the biggest difference between a set (or a dict) and a list"
   ]
  },
  {
   "cell_type": "code",
   "execution_count": 77,
   "metadata": {
    "slideshow": {
     "slide_type": "subslide"
    }
   },
   "outputs": [
    {
     "name": "stdout",
     "output_type": "stream",
     "text": [
      "Len of longList: 99999 type of longList <class 'list'>\n"
     ]
    }
   ],
   "source": [
    "#Let's create a long list\n",
    "longList=[i for i in range(1,100000)]\n",
    "print('Len of longList: %i'%len(longList),'type of longList',type(longList))"
   ]
  },
  {
   "cell_type": "code",
   "execution_count": 78,
   "metadata": {
    "slideshow": {
     "slide_type": "subslide"
    }
   },
   "outputs": [
    {
     "name": "stdout",
     "output_type": "stream",
     "text": [
      "Len of longList2: 99999\n"
     ]
    }
   ],
   "source": [
    "#In python range returns element up to end-1\n",
    "#This is equivalent to\n",
    "longList2=[]\n",
    "for i in range(1,100000):\n",
    "    longList2.append(i)\n",
    "print('Len of longList2: %i'%len(longList2))"
   ]
  },
  {
   "cell_type": "code",
   "execution_count": 80,
   "metadata": {
    "slideshow": {
     "slide_type": "subslide"
    }
   },
   "outputs": [
    {
     "name": "stdout",
     "output_type": "stream",
     "text": [
      "Len on longSet: 99999 type of longSet <class 'set'>\n"
     ]
    },
    {
     "data": {
      "text/plain": [
       "{1,\n",
       " 2,\n",
       " 3,\n",
       " 4,\n",
       " 5,\n",
       " 6,\n",
       " 7,\n",
       " 8,\n",
       " 9,\n",
       " 10,\n",
       " 11,\n",
       " 12,\n",
       " 13,\n",
       " 14,\n",
       " 15,\n",
       " 16,\n",
       " 17,\n",
       " 18,\n",
       " 19,\n",
       " 20,\n",
       " 21,\n",
       " 22,\n",
       " 23,\n",
       " 24,\n",
       " 25,\n",
       " 26,\n",
       " 27,\n",
       " 28,\n",
       " 29,\n",
       " 30,\n",
       " 31,\n",
       " 32,\n",
       " 33,\n",
       " 34,\n",
       " 35,\n",
       " 36,\n",
       " 37,\n",
       " 38,\n",
       " 39,\n",
       " 40,\n",
       " 41,\n",
       " 42,\n",
       " 43,\n",
       " 44,\n",
       " 45,\n",
       " 46,\n",
       " 47,\n",
       " 48,\n",
       " 49,\n",
       " 50,\n",
       " 51,\n",
       " 52,\n",
       " 53,\n",
       " 54,\n",
       " 55,\n",
       " 56,\n",
       " 57,\n",
       " 58,\n",
       " 59,\n",
       " 60,\n",
       " 61,\n",
       " 62,\n",
       " 63,\n",
       " 64,\n",
       " 65,\n",
       " 66,\n",
       " 67,\n",
       " 68,\n",
       " 69,\n",
       " 70,\n",
       " 71,\n",
       " 72,\n",
       " 73,\n",
       " 74,\n",
       " 75,\n",
       " 76,\n",
       " 77,\n",
       " 78,\n",
       " 79,\n",
       " 80,\n",
       " 81,\n",
       " 82,\n",
       " 83,\n",
       " 84,\n",
       " 85,\n",
       " 86,\n",
       " 87,\n",
       " 88,\n",
       " 89,\n",
       " 90,\n",
       " 91,\n",
       " 92,\n",
       " 93,\n",
       " 94,\n",
       " 95,\n",
       " 96,\n",
       " 97,\n",
       " 98,\n",
       " 99,\n",
       " 100,\n",
       " 101,\n",
       " 102,\n",
       " 103,\n",
       " 104,\n",
       " 105,\n",
       " 106,\n",
       " 107,\n",
       " 108,\n",
       " 109,\n",
       " 110,\n",
       " 111,\n",
       " 112,\n",
       " 113,\n",
       " 114,\n",
       " 115,\n",
       " 116,\n",
       " 117,\n",
       " 118,\n",
       " 119,\n",
       " 120,\n",
       " 121,\n",
       " 122,\n",
       " 123,\n",
       " 124,\n",
       " 125,\n",
       " 126,\n",
       " 127,\n",
       " 128,\n",
       " 129,\n",
       " 130,\n",
       " 131,\n",
       " 132,\n",
       " 133,\n",
       " 134,\n",
       " 135,\n",
       " 136,\n",
       " 137,\n",
       " 138,\n",
       " 139,\n",
       " 140,\n",
       " 141,\n",
       " 142,\n",
       " 143,\n",
       " 144,\n",
       " 145,\n",
       " 146,\n",
       " 147,\n",
       " 148,\n",
       " 149,\n",
       " 150,\n",
       " 151,\n",
       " 152,\n",
       " 153,\n",
       " 154,\n",
       " 155,\n",
       " 156,\n",
       " 157,\n",
       " 158,\n",
       " 159,\n",
       " 160,\n",
       " 161,\n",
       " 162,\n",
       " 163,\n",
       " 164,\n",
       " 165,\n",
       " 166,\n",
       " 167,\n",
       " 168,\n",
       " 169,\n",
       " 170,\n",
       " 171,\n",
       " 172,\n",
       " 173,\n",
       " 174,\n",
       " 175,\n",
       " 176,\n",
       " 177,\n",
       " 178,\n",
       " 179,\n",
       " 180,\n",
       " 181,\n",
       " 182,\n",
       " 183,\n",
       " 184,\n",
       " 185,\n",
       " 186,\n",
       " 187,\n",
       " 188,\n",
       " 189,\n",
       " 190,\n",
       " 191,\n",
       " 192,\n",
       " 193,\n",
       " 194,\n",
       " 195,\n",
       " 196,\n",
       " 197,\n",
       " 198,\n",
       " 199,\n",
       " 200,\n",
       " 201,\n",
       " 202,\n",
       " 203,\n",
       " 204,\n",
       " 205,\n",
       " 206,\n",
       " 207,\n",
       " 208,\n",
       " 209,\n",
       " 210,\n",
       " 211,\n",
       " 212,\n",
       " 213,\n",
       " 214,\n",
       " 215,\n",
       " 216,\n",
       " 217,\n",
       " 218,\n",
       " 219,\n",
       " 220,\n",
       " 221,\n",
       " 222,\n",
       " 223,\n",
       " 224,\n",
       " 225,\n",
       " 226,\n",
       " 227,\n",
       " 228,\n",
       " 229,\n",
       " 230,\n",
       " 231,\n",
       " 232,\n",
       " 233,\n",
       " 234,\n",
       " 235,\n",
       " 236,\n",
       " 237,\n",
       " 238,\n",
       " 239,\n",
       " 240,\n",
       " 241,\n",
       " 242,\n",
       " 243,\n",
       " 244,\n",
       " 245,\n",
       " 246,\n",
       " 247,\n",
       " 248,\n",
       " 249,\n",
       " 250,\n",
       " 251,\n",
       " 252,\n",
       " 253,\n",
       " 254,\n",
       " 255,\n",
       " 256,\n",
       " 257,\n",
       " 258,\n",
       " 259,\n",
       " 260,\n",
       " 261,\n",
       " 262,\n",
       " 263,\n",
       " 264,\n",
       " 265,\n",
       " 266,\n",
       " 267,\n",
       " 268,\n",
       " 269,\n",
       " 270,\n",
       " 271,\n",
       " 272,\n",
       " 273,\n",
       " 274,\n",
       " 275,\n",
       " 276,\n",
       " 277,\n",
       " 278,\n",
       " 279,\n",
       " 280,\n",
       " 281,\n",
       " 282,\n",
       " 283,\n",
       " 284,\n",
       " 285,\n",
       " 286,\n",
       " 287,\n",
       " 288,\n",
       " 289,\n",
       " 290,\n",
       " 291,\n",
       " 292,\n",
       " 293,\n",
       " 294,\n",
       " 295,\n",
       " 296,\n",
       " 297,\n",
       " 298,\n",
       " 299,\n",
       " 300,\n",
       " 301,\n",
       " 302,\n",
       " 303,\n",
       " 304,\n",
       " 305,\n",
       " 306,\n",
       " 307,\n",
       " 308,\n",
       " 309,\n",
       " 310,\n",
       " 311,\n",
       " 312,\n",
       " 313,\n",
       " 314,\n",
       " 315,\n",
       " 316,\n",
       " 317,\n",
       " 318,\n",
       " 319,\n",
       " 320,\n",
       " 321,\n",
       " 322,\n",
       " 323,\n",
       " 324,\n",
       " 325,\n",
       " 326,\n",
       " 327,\n",
       " 328,\n",
       " 329,\n",
       " 330,\n",
       " 331,\n",
       " 332,\n",
       " 333,\n",
       " 334,\n",
       " 335,\n",
       " 336,\n",
       " 337,\n",
       " 338,\n",
       " 339,\n",
       " 340,\n",
       " 341,\n",
       " 342,\n",
       " 343,\n",
       " 344,\n",
       " 345,\n",
       " 346,\n",
       " 347,\n",
       " 348,\n",
       " 349,\n",
       " 350,\n",
       " 351,\n",
       " 352,\n",
       " 353,\n",
       " 354,\n",
       " 355,\n",
       " 356,\n",
       " 357,\n",
       " 358,\n",
       " 359,\n",
       " 360,\n",
       " 361,\n",
       " 362,\n",
       " 363,\n",
       " 364,\n",
       " 365,\n",
       " 366,\n",
       " 367,\n",
       " 368,\n",
       " 369,\n",
       " 370,\n",
       " 371,\n",
       " 372,\n",
       " 373,\n",
       " 374,\n",
       " 375,\n",
       " 376,\n",
       " 377,\n",
       " 378,\n",
       " 379,\n",
       " 380,\n",
       " 381,\n",
       " 382,\n",
       " 383,\n",
       " 384,\n",
       " 385,\n",
       " 386,\n",
       " 387,\n",
       " 388,\n",
       " 389,\n",
       " 390,\n",
       " 391,\n",
       " 392,\n",
       " 393,\n",
       " 394,\n",
       " 395,\n",
       " 396,\n",
       " 397,\n",
       " 398,\n",
       " 399,\n",
       " 400,\n",
       " 401,\n",
       " 402,\n",
       " 403,\n",
       " 404,\n",
       " 405,\n",
       " 406,\n",
       " 407,\n",
       " 408,\n",
       " 409,\n",
       " 410,\n",
       " 411,\n",
       " 412,\n",
       " 413,\n",
       " 414,\n",
       " 415,\n",
       " 416,\n",
       " 417,\n",
       " 418,\n",
       " 419,\n",
       " 420,\n",
       " 421,\n",
       " 422,\n",
       " 423,\n",
       " 424,\n",
       " 425,\n",
       " 426,\n",
       " 427,\n",
       " 428,\n",
       " 429,\n",
       " 430,\n",
       " 431,\n",
       " 432,\n",
       " 433,\n",
       " 434,\n",
       " 435,\n",
       " 436,\n",
       " 437,\n",
       " 438,\n",
       " 439,\n",
       " 440,\n",
       " 441,\n",
       " 442,\n",
       " 443,\n",
       " 444,\n",
       " 445,\n",
       " 446,\n",
       " 447,\n",
       " 448,\n",
       " 449,\n",
       " 450,\n",
       " 451,\n",
       " 452,\n",
       " 453,\n",
       " 454,\n",
       " 455,\n",
       " 456,\n",
       " 457,\n",
       " 458,\n",
       " 459,\n",
       " 460,\n",
       " 461,\n",
       " 462,\n",
       " 463,\n",
       " 464,\n",
       " 465,\n",
       " 466,\n",
       " 467,\n",
       " 468,\n",
       " 469,\n",
       " 470,\n",
       " 471,\n",
       " 472,\n",
       " 473,\n",
       " 474,\n",
       " 475,\n",
       " 476,\n",
       " 477,\n",
       " 478,\n",
       " 479,\n",
       " 480,\n",
       " 481,\n",
       " 482,\n",
       " 483,\n",
       " 484,\n",
       " 485,\n",
       " 486,\n",
       " 487,\n",
       " 488,\n",
       " 489,\n",
       " 490,\n",
       " 491,\n",
       " 492,\n",
       " 493,\n",
       " 494,\n",
       " 495,\n",
       " 496,\n",
       " 497,\n",
       " 498,\n",
       " 499,\n",
       " 500,\n",
       " 501,\n",
       " 502,\n",
       " 503,\n",
       " 504,\n",
       " 505,\n",
       " 506,\n",
       " 507,\n",
       " 508,\n",
       " 509,\n",
       " 510,\n",
       " 511,\n",
       " 512,\n",
       " 513,\n",
       " 514,\n",
       " 515,\n",
       " 516,\n",
       " 517,\n",
       " 518,\n",
       " 519,\n",
       " 520,\n",
       " 521,\n",
       " 522,\n",
       " 523,\n",
       " 524,\n",
       " 525,\n",
       " 526,\n",
       " 527,\n",
       " 528,\n",
       " 529,\n",
       " 530,\n",
       " 531,\n",
       " 532,\n",
       " 533,\n",
       " 534,\n",
       " 535,\n",
       " 536,\n",
       " 537,\n",
       " 538,\n",
       " 539,\n",
       " 540,\n",
       " 541,\n",
       " 542,\n",
       " 543,\n",
       " 544,\n",
       " 545,\n",
       " 546,\n",
       " 547,\n",
       " 548,\n",
       " 549,\n",
       " 550,\n",
       " 551,\n",
       " 552,\n",
       " 553,\n",
       " 554,\n",
       " 555,\n",
       " 556,\n",
       " 557,\n",
       " 558,\n",
       " 559,\n",
       " 560,\n",
       " 561,\n",
       " 562,\n",
       " 563,\n",
       " 564,\n",
       " 565,\n",
       " 566,\n",
       " 567,\n",
       " 568,\n",
       " 569,\n",
       " 570,\n",
       " 571,\n",
       " 572,\n",
       " 573,\n",
       " 574,\n",
       " 575,\n",
       " 576,\n",
       " 577,\n",
       " 578,\n",
       " 579,\n",
       " 580,\n",
       " 581,\n",
       " 582,\n",
       " 583,\n",
       " 584,\n",
       " 585,\n",
       " 586,\n",
       " 587,\n",
       " 588,\n",
       " 589,\n",
       " 590,\n",
       " 591,\n",
       " 592,\n",
       " 593,\n",
       " 594,\n",
       " 595,\n",
       " 596,\n",
       " 597,\n",
       " 598,\n",
       " 599,\n",
       " 600,\n",
       " 601,\n",
       " 602,\n",
       " 603,\n",
       " 604,\n",
       " 605,\n",
       " 606,\n",
       " 607,\n",
       " 608,\n",
       " 609,\n",
       " 610,\n",
       " 611,\n",
       " 612,\n",
       " 613,\n",
       " 614,\n",
       " 615,\n",
       " 616,\n",
       " 617,\n",
       " 618,\n",
       " 619,\n",
       " 620,\n",
       " 621,\n",
       " 622,\n",
       " 623,\n",
       " 624,\n",
       " 625,\n",
       " 626,\n",
       " 627,\n",
       " 628,\n",
       " 629,\n",
       " 630,\n",
       " 631,\n",
       " 632,\n",
       " 633,\n",
       " 634,\n",
       " 635,\n",
       " 636,\n",
       " 637,\n",
       " 638,\n",
       " 639,\n",
       " 640,\n",
       " 641,\n",
       " 642,\n",
       " 643,\n",
       " 644,\n",
       " 645,\n",
       " 646,\n",
       " 647,\n",
       " 648,\n",
       " 649,\n",
       " 650,\n",
       " 651,\n",
       " 652,\n",
       " 653,\n",
       " 654,\n",
       " 655,\n",
       " 656,\n",
       " 657,\n",
       " 658,\n",
       " 659,\n",
       " 660,\n",
       " 661,\n",
       " 662,\n",
       " 663,\n",
       " 664,\n",
       " 665,\n",
       " 666,\n",
       " 667,\n",
       " 668,\n",
       " 669,\n",
       " 670,\n",
       " 671,\n",
       " 672,\n",
       " 673,\n",
       " 674,\n",
       " 675,\n",
       " 676,\n",
       " 677,\n",
       " 678,\n",
       " 679,\n",
       " 680,\n",
       " 681,\n",
       " 682,\n",
       " 683,\n",
       " 684,\n",
       " 685,\n",
       " 686,\n",
       " 687,\n",
       " 688,\n",
       " 689,\n",
       " 690,\n",
       " 691,\n",
       " 692,\n",
       " 693,\n",
       " 694,\n",
       " 695,\n",
       " 696,\n",
       " 697,\n",
       " 698,\n",
       " 699,\n",
       " 700,\n",
       " 701,\n",
       " 702,\n",
       " 703,\n",
       " 704,\n",
       " 705,\n",
       " 706,\n",
       " 707,\n",
       " 708,\n",
       " 709,\n",
       " 710,\n",
       " 711,\n",
       " 712,\n",
       " 713,\n",
       " 714,\n",
       " 715,\n",
       " 716,\n",
       " 717,\n",
       " 718,\n",
       " 719,\n",
       " 720,\n",
       " 721,\n",
       " 722,\n",
       " 723,\n",
       " 724,\n",
       " 725,\n",
       " 726,\n",
       " 727,\n",
       " 728,\n",
       " 729,\n",
       " 730,\n",
       " 731,\n",
       " 732,\n",
       " 733,\n",
       " 734,\n",
       " 735,\n",
       " 736,\n",
       " 737,\n",
       " 738,\n",
       " 739,\n",
       " 740,\n",
       " 741,\n",
       " 742,\n",
       " 743,\n",
       " 744,\n",
       " 745,\n",
       " 746,\n",
       " 747,\n",
       " 748,\n",
       " 749,\n",
       " 750,\n",
       " 751,\n",
       " 752,\n",
       " 753,\n",
       " 754,\n",
       " 755,\n",
       " 756,\n",
       " 757,\n",
       " 758,\n",
       " 759,\n",
       " 760,\n",
       " 761,\n",
       " 762,\n",
       " 763,\n",
       " 764,\n",
       " 765,\n",
       " 766,\n",
       " 767,\n",
       " 768,\n",
       " 769,\n",
       " 770,\n",
       " 771,\n",
       " 772,\n",
       " 773,\n",
       " 774,\n",
       " 775,\n",
       " 776,\n",
       " 777,\n",
       " 778,\n",
       " 779,\n",
       " 780,\n",
       " 781,\n",
       " 782,\n",
       " 783,\n",
       " 784,\n",
       " 785,\n",
       " 786,\n",
       " 787,\n",
       " 788,\n",
       " 789,\n",
       " 790,\n",
       " 791,\n",
       " 792,\n",
       " 793,\n",
       " 794,\n",
       " 795,\n",
       " 796,\n",
       " 797,\n",
       " 798,\n",
       " 799,\n",
       " 800,\n",
       " 801,\n",
       " 802,\n",
       " 803,\n",
       " 804,\n",
       " 805,\n",
       " 806,\n",
       " 807,\n",
       " 808,\n",
       " 809,\n",
       " 810,\n",
       " 811,\n",
       " 812,\n",
       " 813,\n",
       " 814,\n",
       " 815,\n",
       " 816,\n",
       " 817,\n",
       " 818,\n",
       " 819,\n",
       " 820,\n",
       " 821,\n",
       " 822,\n",
       " 823,\n",
       " 824,\n",
       " 825,\n",
       " 826,\n",
       " 827,\n",
       " 828,\n",
       " 829,\n",
       " 830,\n",
       " 831,\n",
       " 832,\n",
       " 833,\n",
       " 834,\n",
       " 835,\n",
       " 836,\n",
       " 837,\n",
       " 838,\n",
       " 839,\n",
       " 840,\n",
       " 841,\n",
       " 842,\n",
       " 843,\n",
       " 844,\n",
       " 845,\n",
       " 846,\n",
       " 847,\n",
       " 848,\n",
       " 849,\n",
       " 850,\n",
       " 851,\n",
       " 852,\n",
       " 853,\n",
       " 854,\n",
       " 855,\n",
       " 856,\n",
       " 857,\n",
       " 858,\n",
       " 859,\n",
       " 860,\n",
       " 861,\n",
       " 862,\n",
       " 863,\n",
       " 864,\n",
       " 865,\n",
       " 866,\n",
       " 867,\n",
       " 868,\n",
       " 869,\n",
       " 870,\n",
       " 871,\n",
       " 872,\n",
       " 873,\n",
       " 874,\n",
       " 875,\n",
       " 876,\n",
       " 877,\n",
       " 878,\n",
       " 879,\n",
       " 880,\n",
       " 881,\n",
       " 882,\n",
       " 883,\n",
       " 884,\n",
       " 885,\n",
       " 886,\n",
       " 887,\n",
       " 888,\n",
       " 889,\n",
       " 890,\n",
       " 891,\n",
       " 892,\n",
       " 893,\n",
       " 894,\n",
       " 895,\n",
       " 896,\n",
       " 897,\n",
       " 898,\n",
       " 899,\n",
       " 900,\n",
       " 901,\n",
       " 902,\n",
       " 903,\n",
       " 904,\n",
       " 905,\n",
       " 906,\n",
       " 907,\n",
       " 908,\n",
       " 909,\n",
       " 910,\n",
       " 911,\n",
       " 912,\n",
       " 913,\n",
       " 914,\n",
       " 915,\n",
       " 916,\n",
       " 917,\n",
       " 918,\n",
       " 919,\n",
       " 920,\n",
       " 921,\n",
       " 922,\n",
       " 923,\n",
       " 924,\n",
       " 925,\n",
       " 926,\n",
       " 927,\n",
       " 928,\n",
       " 929,\n",
       " 930,\n",
       " 931,\n",
       " 932,\n",
       " 933,\n",
       " 934,\n",
       " 935,\n",
       " 936,\n",
       " 937,\n",
       " 938,\n",
       " 939,\n",
       " 940,\n",
       " 941,\n",
       " 942,\n",
       " 943,\n",
       " 944,\n",
       " 945,\n",
       " 946,\n",
       " 947,\n",
       " 948,\n",
       " 949,\n",
       " 950,\n",
       " 951,\n",
       " 952,\n",
       " 953,\n",
       " 954,\n",
       " 955,\n",
       " 956,\n",
       " 957,\n",
       " 958,\n",
       " 959,\n",
       " 960,\n",
       " 961,\n",
       " 962,\n",
       " 963,\n",
       " 964,\n",
       " 965,\n",
       " 966,\n",
       " 967,\n",
       " 968,\n",
       " 969,\n",
       " 970,\n",
       " 971,\n",
       " 972,\n",
       " 973,\n",
       " 974,\n",
       " 975,\n",
       " 976,\n",
       " 977,\n",
       " 978,\n",
       " 979,\n",
       " 980,\n",
       " 981,\n",
       " 982,\n",
       " 983,\n",
       " 984,\n",
       " 985,\n",
       " 986,\n",
       " 987,\n",
       " 988,\n",
       " 989,\n",
       " 990,\n",
       " 991,\n",
       " 992,\n",
       " 993,\n",
       " 994,\n",
       " 995,\n",
       " 996,\n",
       " 997,\n",
       " 998,\n",
       " 999,\n",
       " 1000,\n",
       " ...}"
      ]
     },
     "execution_count": 80,
     "metadata": {},
     "output_type": "execute_result"
    }
   ],
   "source": [
    "#Let's create a long set\n",
    "longSet={i for i in range(1,100000)}\n",
    "print('Len on longSet: %i'%len(longSet),'type of longSet',type(longSet))\n",
    "longSet"
   ]
  },
  {
   "cell_type": "markdown",
   "metadata": {
    "slideshow": {
     "slide_type": "fragment"
    }
   },
   "source": [
    "Let's compare the execution time of a search in longSet and longList"
   ]
  },
  {
   "cell_type": "code",
   "execution_count": 81,
   "metadata": {
    "slideshow": {
     "slide_type": "fragment"
    }
   },
   "outputs": [
    {
     "name": "stdout",
     "output_type": "stream",
     "text": [
      "Search for 500 in longList\n",
      "5.3 µs ± 907 ns per loop (mean ± std. dev. of 7 runs, 100 loops each)\n",
      "Search for 500 in longSet\n",
      "59.5 ns ± 4.53 ns per loop (mean ± std. dev. of 7 runs, 100 loops each)\n"
     ]
    }
   ],
   "source": [
    "print('Search for 500 in longList')\n",
    "%timeit -n 100 500 in longList\n",
    "print('Search for 500 in longSet')\n",
    "%timeit -n 100 500 in longSet"
   ]
  },
  {
   "cell_type": "code",
   "execution_count": 83,
   "metadata": {
    "slideshow": {
     "slide_type": "fragment"
    }
   },
   "outputs": [
    {
     "name": "stdout",
     "output_type": "stream",
     "text": [
      "Search for 99999 in longList\n",
      "880 µs ± 38.9 µs per loop (mean ± std. dev. of 7 runs, 100 loops each)\n",
      "Search for 99999 in longSet\n",
      "38.1 ns ± 3.6 ns per loop (mean ± std. dev. of 7 runs, 100 loops each)\n"
     ]
    }
   ],
   "source": [
    "print('Search for 99999 in longList')\n",
    "%timeit -n 100 99999 in longList\n",
    "print('Search for 99999 in longSet')\n",
    "%timeit -n 100 99999 in longSet"
   ]
  },
  {
   "cell_type": "markdown",
   "metadata": {
    "slideshow": {
     "slide_type": "slide"
    }
   },
   "source": [
    "### Other properties\n",
    "\n",
    "Please take not that dictionary and set are **NOT** ordered. You have to remember this when you use them.\n",
    "\n",
    "They compensate this lack with interesting features."
   ]
  },
  {
   "cell_type": "code",
   "execution_count": 84,
   "metadata": {
    "slideshow": {
     "slide_type": "subslide"
    }
   },
   "outputs": [
    {
     "name": "stdout",
     "output_type": "stream",
     "text": [
      "Print for the list\n",
      "['pippo', 'pluto', 'minni', 1, 2, 3]\n",
      "Print for the set\n",
      "{1, 2, 3, 'minni', 'pluto', 'pippo'}\n"
     ]
    }
   ],
   "source": [
    "#List are ordered structure, dictionary and set are not\n",
    "listTest=['pippo','pluto','minni',1,2,3]\n",
    "setTest={'pippo','pluto','minni',1,2,3}\n",
    "print('Print for the list')\n",
    "print(listTest)\n",
    "print('Print for the set')\n",
    "print(setTest)"
   ]
  },
  {
   "cell_type": "markdown",
   "metadata": {},
   "source": [
    "Python sets are... sets. So we have all the proprerty of sets:"
   ]
  },
  {
   "cell_type": "code",
   "execution_count": 87,
   "metadata": {
    "slideshow": {
     "slide_type": "subslide"
    }
   },
   "outputs": [
    {
     "name": "stdout",
     "output_type": "stream",
     "text": [
      "s2 is a sub set of s1? True\n"
     ]
    }
   ],
   "source": [
    "#Others operation on sets\n",
    "s1={1,2,3,4}\n",
    "s2={2,3}\n",
    "s3={2,3,5}\n",
    "print('s2 is a sub set of s1? %s'%s2.issubset(s1))"
   ]
  },
  {
   "cell_type": "code",
   "execution_count": 88,
   "metadata": {
    "slideshow": {
     "slide_type": "subslide"
    }
   },
   "outputs": [
    {
     "name": "stdout",
     "output_type": "stream",
     "text": [
      "s2 is a sub set of s1? True\n"
     ]
    }
   ],
   "source": [
    "print('s2 is a sub set of s1? %s'%(s2<s1))"
   ]
  },
  {
   "cell_type": "code",
   "execution_count": 90,
   "metadata": {
    "slideshow": {
     "slide_type": "subslide"
    }
   },
   "outputs": [
    {
     "name": "stdout",
     "output_type": "stream",
     "text": [
      "s2 is a sub set of s1? False\n",
      "{2, 3}\n"
     ]
    }
   ],
   "source": [
    "print('s2 is a sub set of s1? %s'%s3.issubset(s1))\n",
    "pp(s1.intersection(s2))"
   ]
  },
  {
   "cell_type": "code",
   "execution_count": 92,
   "metadata": {
    "slideshow": {
     "slide_type": "subslide"
    }
   },
   "outputs": [
    {
     "name": "stdout",
     "output_type": "stream",
     "text": [
      "{1, 4}\n",
      "{1, 4, 5}\n"
     ]
    }
   ],
   "source": [
    "pp(s1.difference(s2))\n",
    "pp(s1.symmetric_difference(s3))"
   ]
  },
  {
   "cell_type": "markdown",
   "metadata": {
    "hideCode": true,
    "slideshow": {
     "slide_type": "subslide"
    }
   },
   "source": [
    "## Warning \n",
    "\n",
    "Also dictionaries and set are reference"
   ]
  },
  {
   "cell_type": "code",
   "execution_count": 93,
   "metadata": {
    "slideshow": {
     "slide_type": "fragment"
    }
   },
   "outputs": [
    {
     "name": "stdout",
     "output_type": "stream",
     "text": [
      "20 is being added to s1\n",
      "{1, 2, 3, 4, 20}\n"
     ]
    }
   ],
   "source": [
    "s1bis=s1\n",
    "s1bis.add(20)\n",
    "#s1bis a pointer to s1\n",
    "print('20 is being added to s1')\n",
    "pp(s1)"
   ]
  },
  {
   "cell_type": "code",
   "execution_count": null,
   "metadata": {
    "slideshow": {
     "slide_type": "fragment"
    }
   },
   "outputs": [],
   "source": [
    "#s1copy is a new set\n",
    "s1copy=s1.copy()\n",
    "s1copy.add(30)\n",
    "print('30 is being added to s1copy but not to s1')\n",
    "print('s1copy:',s1copy)\n",
    "print('s1:',s1)\n",
    "#This is true also for dict\n",
    "d1={'a':1,'b':2}\n",
    "d1bis=d1\n",
    "d1bis['c']=3\n",
    "pp(d1)\n",
    "d1copy=d1.copy()\n",
    "d1copy['d']=4\n",
    "print('d1:',d1)\n",
    "print('d1copy:',d1copy)"
   ]
  },
  {
   "cell_type": "markdown",
   "metadata": {},
   "source": [
    "Similarly at what we have done with `int`, `float` and so on, we can also change the type of structure"
   ]
  },
  {
   "cell_type": "code",
   "execution_count": null,
   "metadata": {},
   "outputs": [],
   "source": [
    "#list from dict keys\n",
    "ldk = list(d1.keys())\n",
    "print(ldk)\n",
    "print(type(ldk))\n",
    "#Set form dict values \n",
    "sdv = set(d1.values())\n",
    "print(sdv)\n",
    "print(type(sdv))\n",
    "#list form set \n",
    "print(list(s2),s2)"
   ]
  },
  {
   "cell_type": "markdown",
   "metadata": {},
   "source": [
    "## Real-life Example\n",
    "\n",
    "Json."
   ]
  },
  {
   "cell_type": "markdown",
   "metadata": {
    "slideshow": {
     "slide_type": "slide"
    }
   },
   "source": [
    "## End Exercise 1\n",
    "\n",
    "Let's try to recap with an execise.\n",
    "\n",
    "  - Create a dictionary with some keys `a,b,c,d` and values `1,2,3,4`\n",
    "  - Use the value of the dictionary to create a set\n",
    "  - Add an element of your choiche to this set\n",
    "  - Create a tuple with the values `1,2,3,5`\n",
    "  - Find the difference between the elements in the set and the elements in the tuple "
   ]
  },
  {
   "cell_type": "code",
   "execution_count": 100,
   "metadata": {},
   "outputs": [
    {
     "data": {
      "text/plain": [
       "{10}"
      ]
     },
     "execution_count": 100,
     "metadata": {},
     "output_type": "execute_result"
    }
   ],
   "source": []
  },
  {
   "cell_type": "markdown",
   "metadata": {},
   "source": [
    "## End Execise 2\n",
    "\n",
    "What is the best structure in order to:\n",
    "\n",
    "  - store and retrive quicly Italy's zip codes?\n",
    "  - store and compare the rusults of a programm with a target list of results?\n",
    "  - store in an exact order a sequence of file?"
   ]
  },
  {
   "cell_type": "code",
   "execution_count": 103,
   "metadata": {},
   "outputs": [
    {
     "data": {
      "text/plain": [
       "list"
      ]
     },
     "execution_count": 103,
     "metadata": {},
     "output_type": "execute_result"
    }
   ],
   "source": [
    "ll = [[1,2],[3,4],[5,6]]\n",
    "type(ll[1])"
   ]
  }
 ],
 "metadata": {
  "celltoolbar": "Slideshow",
  "kernelspec": {
   "display_name": "Python 3",
   "language": "python",
   "name": "python3"
  },
  "language_info": {
   "codemirror_mode": {
    "name": "ipython",
    "version": 3
   },
   "file_extension": ".py",
   "mimetype": "text/x-python",
   "name": "python",
   "nbconvert_exporter": "python",
   "pygments_lexer": "ipython3",
   "version": "3.7.3"
  },
  "toc": {
   "base_numbering": 1,
   "nav_menu": {},
   "number_sections": false,
   "sideBar": false,
   "skip_h1_title": false,
   "title_cell": "Table of Contents",
   "title_sidebar": "Contents",
   "toc_cell": false,
   "toc_position": {},
   "toc_section_display": false,
   "toc_window_display": false
  }
 },
 "nbformat": 4,
 "nbformat_minor": 2
}
